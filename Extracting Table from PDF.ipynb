{
 "cells": [
  {
   "cell_type": "code",
   "execution_count": 15,
   "id": "79521c23",
   "metadata": {},
   "outputs": [],
   "source": [
    "import camelot as cm"
   ]
  },
  {
   "cell_type": "code",
   "execution_count": 16,
   "id": "97cba644",
   "metadata": {},
   "outputs": [
    {
     "name": "stdout",
     "output_type": "stream",
     "text": [
      "'Caesar Cipher.ipynb'               Python_Imaging_Library.ipynb\r\n",
      " data_tables.pdf                    Regular_Expessions.ipynb\r\n",
      " Debugging_python.ipynb             search_sort_algorithms.ipynb\r\n",
      " Enumerate_function.ipynb           set.ipynb\r\n",
      "'Extracting Table from PDF.ipynb'   Sierpinski_Triangle.ipynb\r\n",
      " Matplotlib_Basics.ipynb            \u001b[0m\u001b[01;35msierpinski_triangle.png\u001b[0m\r\n",
      " Matplotlib_Random_Walk.ipynb       Stacks.ipynb\r\n",
      " \u001b[01;35mmy_figure.png\u001b[0m                      Strings.ipynb\r\n",
      " Playing_Card_Challenge.ipynb       Two_Sum_Challenge.ipynb\r\n",
      "'Playing Card.ipynb'                untitled.txt\r\n",
      " \u001b[01;35mpoker.jpg\u001b[0m\r\n"
     ]
    }
   ],
   "source": [
    "ls"
   ]
  },
  {
   "cell_type": "code",
   "execution_count": 19,
   "id": "ebd53112",
   "metadata": {},
   "outputs": [],
   "source": [
    "input_pdf = cm.read_pdf(\"data_tables.pdf\",flavor='lattice',pages='1,2')"
   ]
  },
  {
   "cell_type": "code",
   "execution_count": 20,
   "id": "8a3aaacb",
   "metadata": {},
   "outputs": [
    {
     "data": {
      "text/plain": [
       "<TableList n=3>"
      ]
     },
     "execution_count": 20,
     "metadata": {},
     "output_type": "execute_result"
    }
   ],
   "source": [
    "input_pdf"
   ]
  },
  {
   "cell_type": "code",
   "execution_count": 21,
   "id": "c9f9d911",
   "metadata": {},
   "outputs": [
    {
     "name": "stdout",
     "output_type": "stream",
     "text": [
      "<Table shape=(5, 2)>\n",
      "<Table shape=(14, 5)>\n",
      "<Table shape=(6, 2)>\n"
     ]
    }
   ],
   "source": [
    "for n in input_pdf:\n",
    "    print(n)"
   ]
  },
  {
   "cell_type": "code",
   "execution_count": 25,
   "id": "93460a9b",
   "metadata": {},
   "outputs": [
    {
     "data": {
      "text/html": [
       "<div>\n",
       "<style scoped>\n",
       "    .dataframe tbody tr th:only-of-type {\n",
       "        vertical-align: middle;\n",
       "    }\n",
       "\n",
       "    .dataframe tbody tr th {\n",
       "        vertical-align: top;\n",
       "    }\n",
       "\n",
       "    .dataframe thead th {\n",
       "        text-align: right;\n",
       "    }\n",
       "</style>\n",
       "<table border=\"1\" class=\"dataframe\">\n",
       "  <thead>\n",
       "    <tr style=\"text-align: right;\">\n",
       "      <th></th>\n",
       "      <th>0</th>\n",
       "      <th>1</th>\n",
       "      <th>2</th>\n",
       "      <th>3</th>\n",
       "      <th>4</th>\n",
       "    </tr>\n",
       "  </thead>\n",
       "  <tbody>\n",
       "    <tr>\n",
       "      <th>0</th>\n",
       "      <td>Speed (mph)</td>\n",
       "      <td>Driver</td>\n",
       "      <td>Car</td>\n",
       "      <td>Engine\\nDate</td>\n",
       "      <td></td>\n",
       "    </tr>\n",
       "    <tr>\n",
       "      <th>1</th>\n",
       "      <td>407.447</td>\n",
       "      <td>Craig Breedlove</td>\n",
       "      <td>Spirit of America</td>\n",
       "      <td>GE J47\\n8/5/63</td>\n",
       "      <td></td>\n",
       "    </tr>\n",
       "    <tr>\n",
       "      <th>2</th>\n",
       "      <td>413.199</td>\n",
       "      <td>Tom Green</td>\n",
       "      <td>Wingfoot Express</td>\n",
       "      <td>WE J46  \\n10/2/64</td>\n",
       "      <td></td>\n",
       "    </tr>\n",
       "    <tr>\n",
       "      <th>3</th>\n",
       "      <td>434.22</td>\n",
       "      <td>Art Arfons</td>\n",
       "      <td>Green Monster</td>\n",
       "      <td>GE J79 \\n10/5/64</td>\n",
       "      <td></td>\n",
       "    </tr>\n",
       "    <tr>\n",
       "      <th>4</th>\n",
       "      <td>468.719</td>\n",
       "      <td>Craig Breedlove</td>\n",
       "      <td>Spirit of America</td>\n",
       "      <td>GE J79 \\n10/13/64</td>\n",
       "      <td></td>\n",
       "    </tr>\n",
       "    <tr>\n",
       "      <th>5</th>\n",
       "      <td>526.277</td>\n",
       "      <td>Craig Breedlove</td>\n",
       "      <td>Spirit of America</td>\n",
       "      <td>GE J79 \\n10/15/65</td>\n",
       "      <td></td>\n",
       "    </tr>\n",
       "    <tr>\n",
       "      <th>6</th>\n",
       "      <td>536.712</td>\n",
       "      <td>Art Arfons</td>\n",
       "      <td>Green Monster</td>\n",
       "      <td>GE J79  \\n10/27/65</td>\n",
       "      <td></td>\n",
       "    </tr>\n",
       "    <tr>\n",
       "      <th>7</th>\n",
       "      <td>555.127</td>\n",
       "      <td>Craig Breedlove</td>\n",
       "      <td>Spirit of America, Sonic 1</td>\n",
       "      <td>GE J79 \\n11/2/65</td>\n",
       "      <td></td>\n",
       "    </tr>\n",
       "    <tr>\n",
       "      <th>8</th>\n",
       "      <td>576.553</td>\n",
       "      <td>Art Arfons</td>\n",
       "      <td>Green Monster</td>\n",
       "      <td>GE J79 \\n11/7/65</td>\n",
       "      <td></td>\n",
       "    </tr>\n",
       "    <tr>\n",
       "      <th>9</th>\n",
       "      <td>600.601</td>\n",
       "      <td>Craig Breedlove</td>\n",
       "      <td>Spirit of America, Sonic 1</td>\n",
       "      <td>GE J79 \\n11/15/65</td>\n",
       "      <td></td>\n",
       "    </tr>\n",
       "    <tr>\n",
       "      <th>10</th>\n",
       "      <td>622.407</td>\n",
       "      <td>Gary Gabelich</td>\n",
       "      <td>Blue Flame</td>\n",
       "      <td>Rocket \\n10/23/70</td>\n",
       "      <td></td>\n",
       "    </tr>\n",
       "    <tr>\n",
       "      <th>11</th>\n",
       "      <td>633.468</td>\n",
       "      <td>Richard Noble</td>\n",
       "      <td>Thrust 2</td>\n",
       "      <td>RR RG 146 \\n10/4/83</td>\n",
       "      <td></td>\n",
       "    </tr>\n",
       "    <tr>\n",
       "      <th>12</th>\n",
       "      <td>763.035</td>\n",
       "      <td>Andy Green</td>\n",
       "      <td>Thrust SSC</td>\n",
       "      <td>RR Spey\\n10/15/97</td>\n",
       "      <td></td>\n",
       "    </tr>\n",
       "    <tr>\n",
       "      <th>13</th>\n",
       "      <td></td>\n",
       "      <td></td>\n",
       "      <td></td>\n",
       "      <td></td>\n",
       "      <td></td>\n",
       "    </tr>\n",
       "  </tbody>\n",
       "</table>\n",
       "</div>"
      ],
      "text/plain": [
       "              0                1                           2  \\\n",
       "0   Speed (mph)           Driver                         Car   \n",
       "1       407.447  Craig Breedlove           Spirit of America   \n",
       "2       413.199        Tom Green            Wingfoot Express   \n",
       "3        434.22       Art Arfons               Green Monster   \n",
       "4       468.719  Craig Breedlove           Spirit of America   \n",
       "5       526.277  Craig Breedlove           Spirit of America   \n",
       "6       536.712       Art Arfons               Green Monster   \n",
       "7       555.127  Craig Breedlove  Spirit of America, Sonic 1   \n",
       "8       576.553       Art Arfons               Green Monster   \n",
       "9       600.601  Craig Breedlove  Spirit of America, Sonic 1   \n",
       "10      622.407    Gary Gabelich                  Blue Flame   \n",
       "11      633.468    Richard Noble                    Thrust 2   \n",
       "12      763.035       Andy Green                  Thrust SSC   \n",
       "13                                                             \n",
       "\n",
       "                      3 4  \n",
       "0          Engine\\nDate    \n",
       "1        GE J47\\n8/5/63    \n",
       "2     WE J46  \\n10/2/64    \n",
       "3      GE J79 \\n10/5/64    \n",
       "4     GE J79 \\n10/13/64    \n",
       "5     GE J79 \\n10/15/65    \n",
       "6    GE J79  \\n10/27/65    \n",
       "7      GE J79 \\n11/2/65    \n",
       "8      GE J79 \\n11/7/65    \n",
       "9     GE J79 \\n11/15/65    \n",
       "10    Rocket \\n10/23/70    \n",
       "11  RR RG 146 \\n10/4/83    \n",
       "12    RR Spey\\n10/15/97    \n",
       "13                         "
      ]
     },
     "execution_count": 25,
     "metadata": {},
     "output_type": "execute_result"
    }
   ],
   "source": [
    "input_pdf[1].df"
   ]
  },
  {
   "cell_type": "code",
   "execution_count": 40,
   "id": "7a473bc4",
   "metadata": {},
   "outputs": [],
   "source": [
    "df = input_pdf[1].df.loc[10:11,1:3]"
   ]
  },
  {
   "cell_type": "code",
   "execution_count": 41,
   "id": "12817b90",
   "metadata": {},
   "outputs": [
    {
     "data": {
      "text/html": [
       "<div>\n",
       "<style scoped>\n",
       "    .dataframe tbody tr th:only-of-type {\n",
       "        vertical-align: middle;\n",
       "    }\n",
       "\n",
       "    .dataframe tbody tr th {\n",
       "        vertical-align: top;\n",
       "    }\n",
       "\n",
       "    .dataframe thead th {\n",
       "        text-align: right;\n",
       "    }\n",
       "</style>\n",
       "<table border=\"1\" class=\"dataframe\">\n",
       "  <thead>\n",
       "    <tr style=\"text-align: right;\">\n",
       "      <th></th>\n",
       "      <th>1</th>\n",
       "      <th>2</th>\n",
       "      <th>3</th>\n",
       "    </tr>\n",
       "  </thead>\n",
       "  <tbody>\n",
       "    <tr>\n",
       "      <th>10</th>\n",
       "      <td>Gary Gabelich</td>\n",
       "      <td>Blue Flame</td>\n",
       "      <td>Rocket \\n10/23/70</td>\n",
       "    </tr>\n",
       "    <tr>\n",
       "      <th>11</th>\n",
       "      <td>Richard Noble</td>\n",
       "      <td>Thrust 2</td>\n",
       "      <td>RR RG 146 \\n10/4/83</td>\n",
       "    </tr>\n",
       "  </tbody>\n",
       "</table>\n",
       "</div>"
      ],
      "text/plain": [
       "                1           2                    3\n",
       "10  Gary Gabelich  Blue Flame    Rocket \\n10/23/70\n",
       "11  Richard Noble    Thrust 2  RR RG 146 \\n10/4/83"
      ]
     },
     "execution_count": 41,
     "metadata": {},
     "output_type": "execute_result"
    }
   ],
   "source": [
    "df"
   ]
  },
  {
   "cell_type": "code",
   "execution_count": 42,
   "id": "e1a0dd94",
   "metadata": {},
   "outputs": [],
   "source": [
    "df = df.reset_index(drop = True)"
   ]
  },
  {
   "cell_type": "code",
   "execution_count": 43,
   "id": "e1c41ad3",
   "metadata": {},
   "outputs": [
    {
     "data": {
      "text/html": [
       "<div>\n",
       "<style scoped>\n",
       "    .dataframe tbody tr th:only-of-type {\n",
       "        vertical-align: middle;\n",
       "    }\n",
       "\n",
       "    .dataframe tbody tr th {\n",
       "        vertical-align: top;\n",
       "    }\n",
       "\n",
       "    .dataframe thead th {\n",
       "        text-align: right;\n",
       "    }\n",
       "</style>\n",
       "<table border=\"1\" class=\"dataframe\">\n",
       "  <thead>\n",
       "    <tr style=\"text-align: right;\">\n",
       "      <th></th>\n",
       "      <th>1</th>\n",
       "      <th>2</th>\n",
       "      <th>3</th>\n",
       "    </tr>\n",
       "  </thead>\n",
       "  <tbody>\n",
       "    <tr>\n",
       "      <th>0</th>\n",
       "      <td>Gary Gabelich</td>\n",
       "      <td>Blue Flame</td>\n",
       "      <td>Rocket \\n10/23/70</td>\n",
       "    </tr>\n",
       "    <tr>\n",
       "      <th>1</th>\n",
       "      <td>Richard Noble</td>\n",
       "      <td>Thrust 2</td>\n",
       "      <td>RR RG 146 \\n10/4/83</td>\n",
       "    </tr>\n",
       "  </tbody>\n",
       "</table>\n",
       "</div>"
      ],
      "text/plain": [
       "               1           2                    3\n",
       "0  Gary Gabelich  Blue Flame    Rocket \\n10/23/70\n",
       "1  Richard Noble    Thrust 2  RR RG 146 \\n10/4/83"
      ]
     },
     "execution_count": 43,
     "metadata": {},
     "output_type": "execute_result"
    }
   ],
   "source": [
    "df"
   ]
  },
  {
   "cell_type": "code",
   "execution_count": 44,
   "id": "3039b9db",
   "metadata": {},
   "outputs": [],
   "source": [
    "df.columns = [\"DRIVER\", \"CAR\", \"ENGINE\"]"
   ]
  },
  {
   "cell_type": "code",
   "execution_count": 45,
   "id": "058ee901",
   "metadata": {},
   "outputs": [
    {
     "data": {
      "text/html": [
       "<div>\n",
       "<style scoped>\n",
       "    .dataframe tbody tr th:only-of-type {\n",
       "        vertical-align: middle;\n",
       "    }\n",
       "\n",
       "    .dataframe tbody tr th {\n",
       "        vertical-align: top;\n",
       "    }\n",
       "\n",
       "    .dataframe thead th {\n",
       "        text-align: right;\n",
       "    }\n",
       "</style>\n",
       "<table border=\"1\" class=\"dataframe\">\n",
       "  <thead>\n",
       "    <tr style=\"text-align: right;\">\n",
       "      <th></th>\n",
       "      <th>DRIVER</th>\n",
       "      <th>CAR</th>\n",
       "      <th>ENGINE</th>\n",
       "    </tr>\n",
       "  </thead>\n",
       "  <tbody>\n",
       "    <tr>\n",
       "      <th>0</th>\n",
       "      <td>Gary Gabelich</td>\n",
       "      <td>Blue Flame</td>\n",
       "      <td>Rocket \\n10/23/70</td>\n",
       "    </tr>\n",
       "    <tr>\n",
       "      <th>1</th>\n",
       "      <td>Richard Noble</td>\n",
       "      <td>Thrust 2</td>\n",
       "      <td>RR RG 146 \\n10/4/83</td>\n",
       "    </tr>\n",
       "  </tbody>\n",
       "</table>\n",
       "</div>"
      ],
      "text/plain": [
       "          DRIVER         CAR               ENGINE\n",
       "0  Gary Gabelich  Blue Flame    Rocket \\n10/23/70\n",
       "1  Richard Noble    Thrust 2  RR RG 146 \\n10/4/83"
      ]
     },
     "execution_count": 45,
     "metadata": {},
     "output_type": "execute_result"
    }
   ],
   "source": [
    "df"
   ]
  },
  {
   "cell_type": "code",
   "execution_count": 46,
   "id": "f972444e",
   "metadata": {},
   "outputs": [],
   "source": [
    "#if a table has decimal point values , they can be converted to:\n",
    "#df.loc[:,[\"CAR\", \"ENGINE\"]] = df.loc[:,[\"CAR\", \"ENGINE\"]].astype(float)"
   ]
  },
  {
   "cell_type": "code",
   "execution_count": 48,
   "id": "abad07b8",
   "metadata": {},
   "outputs": [],
   "source": [
    "#converting pdf file to csv file using pandas\n",
    "\n",
    "df.to_csv(\"data_tables_csv.csv\")"
   ]
  },
  {
   "cell_type": "code",
   "execution_count": 49,
   "id": "a30854d8",
   "metadata": {},
   "outputs": [
    {
     "name": "stdout",
     "output_type": "stream",
     "text": [
      "'Caesar Cipher.ipynb'               \u001b[0m\u001b[01;35mpoker.jpg\u001b[0m\r\n",
      " data_tables_csv.csv                Python_Imaging_Library.ipynb\r\n",
      " data_tables.pdf                    Regular_Expessions.ipynb\r\n",
      " Debugging_python.ipynb             search_sort_algorithms.ipynb\r\n",
      " Enumerate_function.ipynb           set.ipynb\r\n",
      "'Extracting Table from PDF.ipynb'   Sierpinski_Triangle.ipynb\r\n",
      " Matplotlib_Basics.ipynb            \u001b[01;35msierpinski_triangle.png\u001b[0m\r\n",
      " Matplotlib_Random_Walk.ipynb       Stacks.ipynb\r\n",
      " \u001b[01;35mmy_figure.png\u001b[0m                      Strings.ipynb\r\n",
      " Playing_Card_Challenge.ipynb       Two_Sum_Challenge.ipynb\r\n",
      "'Playing Card.ipynb'                untitled.txt\r\n"
     ]
    }
   ],
   "source": [
    "ls"
   ]
  },
  {
   "cell_type": "code",
   "execution_count": 50,
   "id": "1b27543a",
   "metadata": {},
   "outputs": [],
   "source": [
    "#converting pdf file to excel file using pandas\n",
    "df.to_excel(\"data_tables.xlsx\")"
   ]
  },
  {
   "cell_type": "code",
   "execution_count": 51,
   "id": "77c65c85",
   "metadata": {},
   "outputs": [
    {
     "name": "stdout",
     "output_type": "stream",
     "text": [
      "'Caesar Cipher.ipynb'               \u001b[0m\u001b[01;35mpoker.jpg\u001b[0m\r\n",
      " data_tables_csv.csv                Python_Imaging_Library.ipynb\r\n",
      " data_tables.pdf                    Regular_Expessions.ipynb\r\n",
      " data_tables.xlsx                   search_sort_algorithms.ipynb\r\n",
      " Debugging_python.ipynb             set.ipynb\r\n",
      " Enumerate_function.ipynb           Sierpinski_Triangle.ipynb\r\n",
      "'Extracting Table from PDF.ipynb'   \u001b[01;35msierpinski_triangle.png\u001b[0m\r\n",
      " Matplotlib_Basics.ipynb            Stacks.ipynb\r\n",
      " Matplotlib_Random_Walk.ipynb       Strings.ipynb\r\n",
      " \u001b[01;35mmy_figure.png\u001b[0m                      Two_Sum_Challenge.ipynb\r\n",
      " Playing_Card_Challenge.ipynb       untitled.txt\r\n",
      "'Playing Card.ipynb'\r\n"
     ]
    }
   ],
   "source": [
    "ls"
   ]
  },
  {
   "cell_type": "code",
   "execution_count": 52,
   "id": "fd34c6fc",
   "metadata": {},
   "outputs": [],
   "source": [
    "import pandas as pd"
   ]
  },
  {
   "cell_type": "code",
   "execution_count": 54,
   "id": "503ca72c",
   "metadata": {},
   "outputs": [
    {
     "data": {
      "text/html": [
       "<div>\n",
       "<style scoped>\n",
       "    .dataframe tbody tr th:only-of-type {\n",
       "        vertical-align: middle;\n",
       "    }\n",
       "\n",
       "    .dataframe tbody tr th {\n",
       "        vertical-align: top;\n",
       "    }\n",
       "\n",
       "    .dataframe thead th {\n",
       "        text-align: right;\n",
       "    }\n",
       "</style>\n",
       "<table border=\"1\" class=\"dataframe\">\n",
       "  <thead>\n",
       "    <tr style=\"text-align: right;\">\n",
       "      <th></th>\n",
       "      <th>Unnamed: 0</th>\n",
       "      <th>DRIVER</th>\n",
       "      <th>CAR</th>\n",
       "      <th>ENGINE</th>\n",
       "    </tr>\n",
       "  </thead>\n",
       "  <tbody>\n",
       "    <tr>\n",
       "      <th>0</th>\n",
       "      <td>0</td>\n",
       "      <td>Gary Gabelich</td>\n",
       "      <td>Blue Flame</td>\n",
       "      <td>Rocket \\n10/23/70</td>\n",
       "    </tr>\n",
       "    <tr>\n",
       "      <th>1</th>\n",
       "      <td>1</td>\n",
       "      <td>Richard Noble</td>\n",
       "      <td>Thrust 2</td>\n",
       "      <td>RR RG 146 \\n10/4/83</td>\n",
       "    </tr>\n",
       "  </tbody>\n",
       "</table>\n",
       "</div>"
      ],
      "text/plain": [
       "   Unnamed: 0         DRIVER         CAR               ENGINE\n",
       "0           0  Gary Gabelich  Blue Flame    Rocket \\n10/23/70\n",
       "1           1  Richard Noble    Thrust 2  RR RG 146 \\n10/4/83"
      ]
     },
     "execution_count": 54,
     "metadata": {},
     "output_type": "execute_result"
    }
   ],
   "source": [
    "df2 = pd.read_csv('data_tables_csv.csv')\n",
    "df2"
   ]
  },
  {
   "cell_type": "code",
   "execution_count": 55,
   "id": "947298eb",
   "metadata": {},
   "outputs": [],
   "source": [
    "#importing seaborn for data visualization\n",
    "import seaborn as sns"
   ]
  },
  {
   "cell_type": "code",
   "execution_count": 58,
   "id": "7b5ce6b9",
   "metadata": {},
   "outputs": [],
   "source": [
    "# converting a data frame from a wide format to a long format using pandas function called melt\n",
    "df_melted = df.melt('DRIVER',var_name='model', value_name='type of engine')"
   ]
  },
  {
   "cell_type": "code",
   "execution_count": 59,
   "id": "65a641f1",
   "metadata": {},
   "outputs": [
    {
     "data": {
      "text/html": [
       "<div>\n",
       "<style scoped>\n",
       "    .dataframe tbody tr th:only-of-type {\n",
       "        vertical-align: middle;\n",
       "    }\n",
       "\n",
       "    .dataframe tbody tr th {\n",
       "        vertical-align: top;\n",
       "    }\n",
       "\n",
       "    .dataframe thead th {\n",
       "        text-align: right;\n",
       "    }\n",
       "</style>\n",
       "<table border=\"1\" class=\"dataframe\">\n",
       "  <thead>\n",
       "    <tr style=\"text-align: right;\">\n",
       "      <th></th>\n",
       "      <th>DRIVER</th>\n",
       "      <th>model</th>\n",
       "      <th>type of engine</th>\n",
       "    </tr>\n",
       "  </thead>\n",
       "  <tbody>\n",
       "    <tr>\n",
       "      <th>0</th>\n",
       "      <td>Gary Gabelich</td>\n",
       "      <td>CAR</td>\n",
       "      <td>Blue Flame</td>\n",
       "    </tr>\n",
       "    <tr>\n",
       "      <th>1</th>\n",
       "      <td>Richard Noble</td>\n",
       "      <td>CAR</td>\n",
       "      <td>Thrust 2</td>\n",
       "    </tr>\n",
       "    <tr>\n",
       "      <th>2</th>\n",
       "      <td>Gary Gabelich</td>\n",
       "      <td>ENGINE</td>\n",
       "      <td>Rocket \\n10/23/70</td>\n",
       "    </tr>\n",
       "    <tr>\n",
       "      <th>3</th>\n",
       "      <td>Richard Noble</td>\n",
       "      <td>ENGINE</td>\n",
       "      <td>RR RG 146 \\n10/4/83</td>\n",
       "    </tr>\n",
       "  </tbody>\n",
       "</table>\n",
       "</div>"
      ],
      "text/plain": [
       "          DRIVER   model       type of engine\n",
       "0  Gary Gabelich     CAR           Blue Flame\n",
       "1  Richard Noble     CAR             Thrust 2\n",
       "2  Gary Gabelich  ENGINE    Rocket \\n10/23/70\n",
       "3  Richard Noble  ENGINE  RR RG 146 \\n10/4/83"
      ]
     },
     "execution_count": 59,
     "metadata": {},
     "output_type": "execute_result"
    }
   ],
   "source": [
    "df_melted"
   ]
  },
  {
   "cell_type": "code",
   "execution_count": null,
   "id": "1504384e",
   "metadata": {},
   "outputs": [],
   "source": [
    "# ploting a barplot using seaborn\n",
    "sns.barplot(x = 'DRIVER', y = \"type of engine\", hue = 'model', data = df_melted)"
   ]
  }
 ],
 "metadata": {
  "kernelspec": {
   "display_name": "Python 3 (ipykernel)",
   "language": "python",
   "name": "python3"
  },
  "language_info": {
   "codemirror_mode": {
    "name": "ipython",
    "version": 3
   },
   "file_extension": ".py",
   "mimetype": "text/x-python",
   "name": "python",
   "nbconvert_exporter": "python",
   "pygments_lexer": "ipython3",
   "version": "3.9.7"
  }
 },
 "nbformat": 4,
 "nbformat_minor": 5
}
